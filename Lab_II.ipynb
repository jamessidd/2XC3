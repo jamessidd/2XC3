{
 "cells": [
  {
   "cell_type": "markdown",
   "metadata": {},
   "source": [
    "# Computer Science 2XC3 - Graded Lab II"
   ]
  },
  {
   "cell_type": "markdown",
   "metadata": {},
   "source": [
    "In this day and age, it is very easy to generate automated solutions to any problem, not necessarily becuase of AI, but because of vast online communities that exist to find solution to popular/common problems. Whether or not that solution is correct and applicable to our context,  can be assessed only if we understand the concepts and can critically evaluate them. The goal of this lab is to motivate you to not only produce the correct solution to problems, but also to reflect about why, how and when your solution will likely succeed/fail. \n",
    "\n",
    "In this lab you will design experiments with sorting and search algorithms. Please read all instructions carefully. Seek the help of TA's if you need clarifications on the task. Do not hard code any results."
   ]
  },
  {
   "cell_type": "code",
   "execution_count": 13,
   "metadata": {},
   "outputs": [],
   "source": [
    "import random\n",
    "import time\n",
    "import timeit \n",
    "import matplotlib as plt\n",
    "import numpy as np"
   ]
  },
  {
   "cell_type": "markdown",
   "metadata": {},
   "source": [
    "---\n",
    "---"
   ]
  },
  {
   "cell_type": "markdown",
   "metadata": {},
   "source": [
    "### Part A"
   ]
  },
  {
   "cell_type": "markdown",
   "metadata": {},
   "source": [
    "##### A1. Implement three classes with the following sorting algorithms:\n",
    "- Bubble Sort\n",
    "- Insertion Sort\n",
    "- Selection Sort"
   ]
  },
  {
   "cell_type": "code",
   "execution_count": 14,
   "metadata": {},
   "outputs": [],
   "source": [
    "class BubbleSort:\n",
    "    def __init__(self, items_to_sort):\n",
    "        self.items = items_to_sort\n",
    "        self.sorted_items = []\n",
    "\n",
    "    def bubble_sort(self):\n",
    "        n = len(self.items)\n",
    "        self.sorted_items = self.items.copy()\n",
    "        for i in range(n):\n",
    "            for j in range(0, n-i-1):\n",
    "                if self.items[j] > self.items[j+1]:\n",
    "                    self.items[j], self.items[j+1] = self.items[j+1], self.items[j]\n",
    "        self.sorted_items = self.items\n",
    "\n",
    "    def get_sorted(self):\n",
    "        return self.sorted_items"
   ]
  },
  {
   "cell_type": "code",
   "execution_count": 15,
   "metadata": {},
   "outputs": [],
   "source": [
    "class InsertionSort:\n",
    "    def __init__(self, items_to_sort):\n",
    "        self.items = items_to_sort\n",
    "        self.sorted_items = []\n",
    "\n",
    "    def insertion_sort(self):\n",
    "        for i in range(1, len(self.items)):\n",
    "            key = self.items[i]\n",
    "            j = i - 1\n",
    "            while j >= 0 and self.items[j] > key:\n",
    "                self.items[j + 1] = self.items[j]\n",
    "                j -= 1\n",
    "            self.items[j + 1] = key\n",
    "        self.sorted_items = self.items\n",
    "\n",
    "    def get_sorted(self):\n",
    "        return self.sorted_items"
   ]
  },
  {
   "cell_type": "code",
   "execution_count": 16,
   "metadata": {},
   "outputs": [],
   "source": [
    "class SelectionSort:\n",
    "    def __init__(self, items_to_sort):\n",
    "        self.items = items_to_sort\n",
    "        self.sorted_items = []\n",
    "\n",
    "    def selection_sort(self):\n",
    "        n = len(self.items)\n",
    "        for i in range(n):\n",
    "            min_idx = i\n",
    "            for j in range(i+1, n):\n",
    "                if self.items[j] < self.items[min_idx]:\n",
    "                    min_idx = j\n",
    "            self.items[i], self.items[min_idx] = self.items[min_idx], self.items[i]\n",
    "        self.sorted_items = self.items\n",
    "\n",
    "    def get_sorted(self):\n",
    "        return self.sorted_items"
   ]
  },
  {
   "cell_type": "markdown",
   "metadata": {},
   "source": [
    "___"
   ]
  },
  {
   "cell_type": "markdown",
   "metadata": {},
   "source": [
    "##### A2. Compute the performance of above 3 algorithms on a single list of real numbers.\n",
    "\n",
    "First generate a custom random list using function <code> create_custom_list()</code>. Execute each of the above algorithm for N trials ( select N >= 75) on the list and plot the timing of each execution on a bar chart. Also calculate the average execution time for the entire batch of N trials ( you can either display it on the chart or simply <code> print()</code> it). For larger values of N, consider breaking N trials into mini batches of n executions and plotting execution times for each mini batch. For instance, if you select N=1000, to plot execution timings for 1000 trials, you may break them into mini batch of n=10 trials and display average of each mini batch. This will reduce clutter in your bar charts while still enabling you to perform extensive testing with higher N.\n",
    "\n",
    "Execute each of the above algorithm on the same set of integers. The outcome of your code should be 3 charts for each algorithm run on your list N times. Few utility functions are given below. You do not have to necessarily use the <code> draw_plot()</code> function. You can plot your timings using an excel sheet and paste the image of your timings here. Refer to [Markdown Guide](https://www.markdownguide.org/basic-syntax/) on how to add images in the jupyter notebook or ask your TA."
   ]
  },
  {
   "cell_type": "code",
   "execution_count": 17,
   "metadata": {},
   "outputs": [
    {
     "data": {
      "text/plain": [
       "[374,\n",
       " 429,\n",
       " 282,\n",
       " 79,\n",
       " 6,\n",
       " 301,\n",
       " 7,\n",
       " 292,\n",
       " 206,\n",
       " 115,\n",
       " 395,\n",
       " 149,\n",
       " 92,\n",
       " 6,\n",
       " 427,\n",
       " 218,\n",
       " 314,\n",
       " 150,\n",
       " 432,\n",
       " 309,\n",
       " 298,\n",
       " 214,\n",
       " 89,\n",
       " 203,\n",
       " 402,\n",
       " 175,\n",
       " 226,\n",
       " 212,\n",
       " 274,\n",
       " 181,\n",
       " 471,\n",
       " 431,\n",
       " 48,\n",
       " 493,\n",
       " 331,\n",
       " 141,\n",
       " 142,\n",
       " 160,\n",
       " 78,\n",
       " 73,\n",
       " 290,\n",
       " 396,\n",
       " 55,\n",
       " 1,\n",
       " 437,\n",
       " 233,\n",
       " 428,\n",
       " 205,\n",
       " 394,\n",
       " 465,\n",
       " 365,\n",
       " 254,\n",
       " 301,\n",
       " 93,\n",
       " 175,\n",
       " 150,\n",
       " 220,\n",
       " 195,\n",
       " 77,\n",
       " 111,\n",
       " 458,\n",
       " 148,\n",
       " 379,\n",
       " 297,\n",
       " 337,\n",
       " 238,\n",
       " 436,\n",
       " 32,\n",
       " 66,\n",
       " 77,\n",
       " 359,\n",
       " 410,\n",
       " 101,\n",
       " 156,\n",
       " 295,\n",
       " 309,\n",
       " 76,\n",
       " 427,\n",
       " 134,\n",
       " 469,\n",
       " 202,\n",
       " 410,\n",
       " 175,\n",
       " 31,\n",
       " 483,\n",
       " 378,\n",
       " 227,\n",
       " 219,\n",
       " 92,\n",
       " 165,\n",
       " 336,\n",
       " 374,\n",
       " 390,\n",
       " 422,\n",
       " 41,\n",
       " 424,\n",
       " 355,\n",
       " 73,\n",
       " 422,\n",
       " 150,\n",
       " 428,\n",
       " 159,\n",
       " 343,\n",
       " 375,\n",
       " 17,\n",
       " 477,\n",
       " 324,\n",
       " 444,\n",
       " 461,\n",
       " 360,\n",
       " 98,\n",
       " 463,\n",
       " 85,\n",
       " 37,\n",
       " 354,\n",
       " 455,\n",
       " 246,\n",
       " 114,\n",
       " 496,\n",
       " 38,\n",
       " 294,\n",
       " 156,\n",
       " 243,\n",
       " 206,\n",
       " 10,\n",
       " 362,\n",
       " 242,\n",
       " 360,\n",
       " 38,\n",
       " 136,\n",
       " 254,\n",
       " 212,\n",
       " 367,\n",
       " 315,\n",
       " 382,\n",
       " 177,\n",
       " 268,\n",
       " 498,\n",
       " 104,\n",
       " 488,\n",
       " 315,\n",
       " 332,\n",
       " 431,\n",
       " 159,\n",
       " 339,\n",
       " 372,\n",
       " 386,\n",
       " 197,\n",
       " 367,\n",
       " 287,\n",
       " 486,\n",
       " 76,\n",
       " 311,\n",
       " 371,\n",
       " 413,\n",
       " 456,\n",
       " 38,\n",
       " 27,\n",
       " 486,\n",
       " 307,\n",
       " 113,\n",
       " 88,\n",
       " 168,\n",
       " 293,\n",
       " 361,\n",
       " 333,\n",
       " 31,\n",
       " 408,\n",
       " 73,\n",
       " 172,\n",
       " 60,\n",
       " 460,\n",
       " 107,\n",
       " 338,\n",
       " 144,\n",
       " 412,\n",
       " 447,\n",
       " 36,\n",
       " 409,\n",
       " 177,\n",
       " 368,\n",
       " 234,\n",
       " 83,\n",
       " 120,\n",
       " 291,\n",
       " 307,\n",
       " 188,\n",
       " 440,\n",
       " 186,\n",
       " 384,\n",
       " 351,\n",
       " 278,\n",
       " 262,\n",
       " 282,\n",
       " 343,\n",
       " 172,\n",
       " 338,\n",
       " 191,\n",
       " 197,\n",
       " 60,\n",
       " 161,\n",
       " 14,\n",
       " 461,\n",
       " 173,\n",
       " 260,\n",
       " 306,\n",
       " 351,\n",
       " 125,\n",
       " 366,\n",
       " 389,\n",
       " 367,\n",
       " 373,\n",
       " 81,\n",
       " 464,\n",
       " 150,\n",
       " 223,\n",
       " 304,\n",
       " 128,\n",
       " 414,\n",
       " 405,\n",
       " 440,\n",
       " 341,\n",
       " 400,\n",
       " 247,\n",
       " 334,\n",
       " 68,\n",
       " 478,\n",
       " 117,\n",
       " 39,\n",
       " 457,\n",
       " 74,\n",
       " 358,\n",
       " 99,\n",
       " 357,\n",
       " 141,\n",
       " 180,\n",
       " 0,\n",
       " 455,\n",
       " 59,\n",
       " 350,\n",
       " 341,\n",
       " 471,\n",
       " 497,\n",
       " 92,\n",
       " 412,\n",
       " 165,\n",
       " 296,\n",
       " 70,\n",
       " 403,\n",
       " 445,\n",
       " 481,\n",
       " 18,\n",
       " 390,\n",
       " 155,\n",
       " 181,\n",
       " 96,\n",
       " 338,\n",
       " 89,\n",
       " 471,\n",
       " 404,\n",
       " 37,\n",
       " 92,\n",
       " 216,\n",
       " 127,\n",
       " 25,\n",
       " 90,\n",
       " 295,\n",
       " 92,\n",
       " 13,\n",
       " 132,\n",
       " 50,\n",
       " 101,\n",
       " 153,\n",
       " 500,\n",
       " 338,\n",
       " 41,\n",
       " 325,\n",
       " 416,\n",
       " 226,\n",
       " 105,\n",
       " 443,\n",
       " 118,\n",
       " 159,\n",
       " 465,\n",
       " 432,\n",
       " 178,\n",
       " 41,\n",
       " 317,\n",
       " 241,\n",
       " 15,\n",
       " 189,\n",
       " 177,\n",
       " 47,\n",
       " 315,\n",
       " 311,\n",
       " 51,\n",
       " 104,\n",
       " 225,\n",
       " 133,\n",
       " 68]"
      ]
     },
     "execution_count": 17,
     "metadata": {},
     "output_type": "execute_result"
    }
   ],
   "source": [
    "import random\n",
    "\n",
    "global_random_list = []\n",
    "\n",
    "def create_custom_list_global(length, max_value, item=None, item_index=None):\n",
    "    global global_random_list  # Use the global keyword to indicate that you want to use the global variable\n",
    "\n",
    "    global_random_list = [random.randint(0, max_value) for i in range(length)]\n",
    "    \n",
    "    if item is not None and item_index is not None:\n",
    "        global_random_list.insert(item_index, item)\n",
    "\n",
    "    return global_random_list\n",
    "\n",
    "create_custom_list_global(300, 500)\n"
   ]
  },
  {
   "cell_type": "code",
   "execution_count": 18,
   "metadata": {},
   "outputs": [],
   "source": [
    "import timeit\n",
    "import matplotlib.pyplot as plt\n",
    "import numpy as np\n",
    "\n",
    "def draw_plot(run_arr):\n",
    "    x = np.arange(0, len(run_arr),1)\n",
    "    fig=plt.figure(figsize=(20,8))\n",
    "    plt.bar(x,run_arr)\n",
    "    plt.axhline(np.mean(run_arr),color=\"red\",linestyle=\"--\",label=\"Avg\")\n",
    "    plt.xlabel(\"Iterations\")\n",
    "    plt.ylabel(\"Run time in ms order of 1e-6\")\n",
    "    plt.title(\"Run time for retrieval\")\n",
    "    plt.show()"
   ]
  },
  {
   "cell_type": "code",
   "execution_count": 19,
   "metadata": {},
   "outputs": [
    {
     "data": {
      "image/png": "[encoded data removed]",
      "text/plain": [
       "<Figure size 2000x800 with 1 Axes>"
      ]
     },
     "metadata": {},
     "output_type": "display_data"
    }
   ],
   "source": [
    "### Bubble sort experiment code goes here\n",
    "n = 120 #number of trials\n",
    "run_times1 = []\n",
    "\n",
    "for _ in range(n):\n",
    "\n",
    "    randomListBubble = list(global_random_list)\n",
    "    bubbleSorted = BubbleSort(randomListBubble)\n",
    "    start1 = timeit.default_timer()\n",
    "    bubbleSorted.bubble_sort()\n",
    "    stop1 = timeit.default_timer()\n",
    "    run_times1.append(stop1-start1)\n",
    "\n",
    "draw_plot(run_times1)\n",
    "\n"
   ]
  },
  {
   "cell_type": "code",
   "execution_count": 20,
   "metadata": {},
   "outputs": [
    {
     "data": {
      "image/png": "[encoded data removed]",
      "text/plain": [
       "<Figure size 2000x800 with 1 Axes>"
      ]
     },
     "metadata": {},
     "output_type": "display_data"
    }
   ],
   "source": [
    "## Insertion sort experiment code goes here\n",
    "\n",
    "n = 120 #number of trials\n",
    "run_times2 = []\n",
    "for _ in range(n):\n",
    "\n",
    "    randomListInsertion = list(global_random_list)\n",
    "    insertedSorted = InsertionSort(randomListInsertion)\n",
    "    start2 = timeit.default_timer()\n",
    "    insertedSorted.insertion_sort()\n",
    "    stop2 = timeit.default_timer()\n",
    "\n",
    "    run_times2.append(stop2-start2)\n",
    "\n",
    "draw_plot(run_times2)"
   ]
  },
  {
   "cell_type": "code",
   "execution_count": 21,
   "metadata": {},
   "outputs": [
    {
     "data": {
      "image/png": "[encoded data removed]",
      "text/plain": [
       "<Figure size 2000x800 with 1 Axes>"
      ]
     },
     "metadata": {},
     "output_type": "display_data"
    }
   ],
   "source": [
    "### Selection sort experiment code goes here\n",
    "\n",
    "n = 120 #number of trials\n",
    "run_times3 = []\n",
    "for _ in range(n):\n",
    "\n",
    "    randomListSelection = list(global_random_list)\n",
    "    selectionSorted = SelectionSort(randomListSelection)\n",
    "    start3 = timeit.default_timer()\n",
    "    selectionSorted.selection_sort()\n",
    "    stop3 = timeit.default_timer()\n",
    "\n",
    "    run_times3.append(stop3-start3)\n",
    "\n",
    "\n",
    "draw_plot(run_times3)"
   ]
  },
  {
   "cell_type": "markdown",
   "metadata": {},
   "source": [
    "You would notice that certain sorting algorithms have better time complexity (or performance) than others. Write below a reflection of your observations. Can you confidently compare the performance across the 3 algorithms? Why does certain algorithm perform better than the other? What are the various factors impacting the best performing and the worst performing algorithm. Write a few sentences answering each of the above questions. Also describe any other observation you found important.\n",
    "\n",
    "**Reflection**:\n",
    "\n",
    "In the observed experiment, it was noted that Bubble Sort consistently took around twice as long as Insertion Sort and Selection Sort. This performance difference can be attributed to the time complexity of each sorting algorithm.\n",
    "\n",
    "Bubble Sort has a worst-case time complexity of O(n^2), where n is the number of elements in the list. It involves pairwise comparisons and swaps, iterating through the list multiple times until it is sorted. This makes Bubble Sort less efficient, especially as the size of the list increases. In the case of 120 trials with a list of length 200 and a max value of 1000, the time complexity becomes a significant factor, leading to longer execution times.\n",
    "\n",
    "In summary, the observed performance differences among Bubble Sort, Insertion Sort, and Selection Sort can be attributed to their distinct approaches to sorting and their sensitivity to the size and structure of the input data. The trade-offs between time complexity, adaptability, and the specific characteristics of the dataset impact the overall efficiency of each algorithm.\n"
   ]
  },
  {
   "cell_type": "markdown",
   "metadata": {},
   "source": [
    "---"
   ]
  },
  {
   "cell_type": "markdown",
   "metadata": {},
   "source": [
    "##### A3. Compute the performance of above 3 algorithms on a different list sizes.\n",
    "\n",
    "The <code> create_custom_list()</code> helps you create lists of varying lengths and range of numbers. Plot a **line chart** that shows the performance of each algorithm on different list sizes ranging between 1 - 100,000 integers. If you think about this question, you are essentially plotting the time complexity on various list sizes. "
   ]
  },
  {
   "cell_type": "code",
   "execution_count": 22,
   "metadata": {},
   "outputs": [],
   "source": [
    "#create_custom_list() cell. this cell is different than the function utilized in A2 to allow for easier usability and readability.\n",
    "#moreover, the create_custom_list() in A2 was designed specifically to create a global random list variable.\n",
    "#this one will be designed to return a custom list.append\n",
    "\n",
    "def create_list_custom(length, max_value, item=None, item_index=None):\n",
    "    random_list = [random.randint(0,max_value) for i in range(length)]\n",
    "    if item!= None:\n",
    "        random_list.insert(item_index,item)\n",
    "    return random_list\n",
    "\n"
   ]
  },
  {
   "cell_type": "code",
   "execution_count": 23,
   "metadata": {},
   "outputs": [],
   "source": [
    "import timeit\n",
    "import matplotlib.pyplot as plt\n",
    "import numpy as np\n",
    "\n",
    "def draw_line_plot(run_arr):\n",
    "    x = np.arange(0, len(run_arr), 1)\n",
    "    fig = plt.figure(figsize=(20, 8))\n",
    "    plt.plot(x, run_arr, label='Run Times')\n",
    "    plt.axhline(np.mean(run_arr), color=\"red\", linestyle=\"--\", label=\"Avg\")\n",
    "    plt.xlabel(\"Iterations\")\n",
    "    plt.ylabel(\"Run time in ms order of 1e-6\")\n",
    "    plt.title(\"Run time for retrieval\")\n",
    "    plt.legend()\n",
    "    plt.show()"
   ]
  },
  {
   "cell_type": "code",
   "execution_count": 24,
   "metadata": {},
   "outputs": [],
   "source": [
    "### Bubble sort experiment code goes here\n",
    "\n",
    "n = 20\n",
    "A3run_times1 = []\n",
    "\n",
    "for _ in range(n):\n",
    "    \n",
    "    A3bubbleRandList = create_custom_list(random.randint(1,100000),100000)\n",
    "    A3bubbleSorted = BubbleSort(A3bubbleRandList)\n",
    "    A3start1 = timeit.default_timer()\n",
    "    A3bubbleSorted.bubble_sort()\n",
    "    A3stop1 = timeit.default_timer()\n",
    "    A3run_times1.append(A3stop1-A3start1)\n",
    "\n",
    "draw_plot(A3run_times1)"
   ]
  },
  {
   "cell_type": "code",
   "execution_count": null,
   "metadata": {},
   "outputs": [],
   "source": [
    "### Insertion sort experiment code goes here\n",
    "\n",
    "n = 20\n",
    "A3run_times2 = []\n",
    "\n",
    "for _ in range(n):\n",
    "    \n",
    "    A3InsertionRandList = create_custom_list(random.randint(1,100000),100000)\n",
    "    A3InsertionSorted = InsertionSort(A3InsertionRandList)\n",
    "    A3start2 = timeit.default_timer()\n",
    "    A3InsertionSorted.insertion_sort()\n",
    "    A3stop2 = timeit.default_timer()\n",
    "    A3run_times2.append(A3stop2-A3start2)\n",
    "\n",
    "draw_plot(A3run_times2)"
   ]
  },
  {
   "cell_type": "code",
   "execution_count": null,
   "metadata": {},
   "outputs": [],
   "source": [
    "### Selection sort experiment code goes here"
   ]
  },
  {
   "cell_type": "markdown",
   "metadata": {},
   "source": [
    "Describe you results here. What did you observe when comparing the charts? Which algorithm was more performant and why?\n",
    "\n",
    "**Reflection** :"
   ]
  },
  {
   "cell_type": "markdown",
   "metadata": {},
   "source": [
    "---"
   ]
  },
  {
   "cell_type": "markdown",
   "metadata": {},
   "source": [
    "##### A4. Compute the performance of above 3 algorithms on a different list \"states\".\n",
    "\n",
    "Using the same above list generation function (or writing a function of your own), create two different lists states: \n",
    "\n",
    "- A state where the list is **near** sorted.\n",
    "- A state where the list is completely unsorted.\n",
    "\n",
    "HINTS: \n",
    "\n",
    "- You can implement a \"controlled\" Quicksort algorithm for such a function. While you can find many implementations of such a function online, significant number of those solutions originate from this psuedocode [Generating Sorted Lists of Random Numbers](https://dl.acm.org/doi/pdf/10.1145/355900.355907). \n",
    "\n",
    "- You can modify the list generation code given above to create the above list examples.\n",
    "\n",
    "Compare the performance of all 3 sorting algorithms on these two lists. Plot their performance on bar chart and display them here. "
   ]
  },
  {
   "cell_type": "code",
   "execution_count": null,
   "metadata": {},
   "outputs": [],
   "source": [
    "### Bubble sort experiment code goes here"
   ]
  },
  {
   "cell_type": "code",
   "execution_count": null,
   "metadata": {},
   "outputs": [],
   "source": [
    "### Selection sort experiment code goes here"
   ]
  },
  {
   "cell_type": "code",
   "execution_count": null,
   "metadata": {},
   "outputs": [],
   "source": [
    "### Insertion sort experiment code goes here"
   ]
  },
  {
   "cell_type": "markdown",
   "metadata": {},
   "source": [
    "Describe you observations here. Which algorithm performs best / worst for sorted/near sorted lists and why? Does the performance vary significantly? Describe which runs times were higher and why do you think that is? You woul\n",
    "\n",
    "**Reflection** :"
   ]
  },
  {
   "cell_type": "markdown",
   "metadata": {},
   "source": [
    "---\n",
    "---"
   ]
  },
  {
   "cell_type": "markdown",
   "metadata": {},
   "source": [
    "### Part B"
   ]
  },
  {
   "cell_type": "markdown",
   "metadata": {},
   "source": [
    "In the class, we discussed three implementations of Binary Search. "
   ]
  },
  {
   "cell_type": "code",
   "execution_count": null,
   "metadata": {},
   "outputs": [],
   "source": [
    "def binary_search_1(item_list, to_find):\n",
    "    lower=0\n",
    "    upper=len(item_list)-1\n",
    "    while lower < upper:\n",
    "        mid = (lower+upper)//2\n",
    "        if item_list[mid] == to_find:\n",
    "            return True\n",
    "        if item_list[mid] < to_find:\n",
    "            lower = mid+1\n",
    "        else:\n",
    "            upper=mid\n",
    "    return item_list[lower]==to_find"
   ]
  },
  {
   "cell_type": "code",
   "execution_count": null,
   "metadata": {},
   "outputs": [],
   "source": [
    "def binary_search_2(item_list, to_find):\n",
    "    lower=0\n",
    "    upper=len(item_list)-1\n",
    "    while lower <= upper:\n",
    "        mid = (lower+upper)//2\n",
    "        if item_list[mid] == to_find:\n",
    "            return True\n",
    "        if item_list[mid] < to_find:\n",
    "            lower = mid+1\n",
    "        else:\n",
    "            upper=mid-1\n",
    "    return item_list[lower]==to_find"
   ]
  },
  {
   "cell_type": "code",
   "execution_count": null,
   "metadata": {},
   "outputs": [],
   "source": [
    "def binary_search_3(item_list, to_find):\n",
    "    left=0\n",
    "    right=len(item_list)-1\n",
    "    while left != right:\n",
    "        mid = (left+right)//2\n",
    "        if item_list[mid] < to_find:\n",
    "            left = mid+1\n",
    "        elif item_list[mid] > to_find:\n",
    "            right = mid\n",
    "        else:\n",
    "            return True\n",
    "    return item_list[left]==to_find"
   ]
  },
  {
   "cell_type": "markdown",
   "metadata": {},
   "source": [
    "Compare the performance of each implementation (or variation) with two lists:\n",
    "\n",
    "1. List is odd numbered (minimum 1000 integers)\n",
    "1. List is even numbered (minimum 1000 integers)\n",
    "\n",
    "Run the above experiments when the item to be found is:\n",
    "1. At the begining of the list.\n",
    "1. Towards the end of the list.\n",
    "1. Right at the middle of the list.\n",
    "\n",
    "The above three combinations would yield 3X2 experiments. Provide detailed outline of the experiments, plots, and a brief description of the observations in the reflections section."
   ]
  },
  {
   "cell_type": "code",
   "execution_count": null,
   "metadata": {},
   "outputs": [],
   "source": [
    "## you experiment code goes here"
   ]
  },
  {
   "cell_type": "markdown",
   "metadata": {},
   "source": [
    "**Reflection**:"
   ]
  },
  {
   "cell_type": "markdown",
   "metadata": {},
   "source": [
    "---\n",
    "---"
   ]
  },
  {
   "cell_type": "markdown",
   "metadata": {},
   "source": [
    "### Part C"
   ]
  },
  {
   "cell_type": "markdown",
   "metadata": {},
   "source": [
    "Recall that I discussed in the class, the possibility of \"reducing the comparisons\" in Binary Search implementation. One solution came up is to remove the comparison with \"mid\". If you design an experiment to test this, you will soon realize that while this speeds up the execution time by reducing the number of comparisons needed, it fails when the element to be searched is right in the middle.  So are there any ways to improve the speed of Binary Search that is not dependent on data? The answer is recursion! In this section, implement a Binary Search recursively."
   ]
  },
  {
   "cell_type": "code",
   "execution_count": null,
   "metadata": {},
   "outputs": [],
   "source": [
    "def binary_search_4(item_list, to_find):\n",
    "    return False"
   ]
  },
  {
   "cell_type": "markdown",
   "metadata": {},
   "source": [
    "Run all the experiments in Part B comapring all 4 implementations under all 6 cases. Plot the timings, and describe the results in the below section. Write a short description of your observation; why is recursion better in this case?"
   ]
  },
  {
   "cell_type": "code",
   "execution_count": null,
   "metadata": {},
   "outputs": [],
   "source": [
    "# your implementation and experiments go here."
   ]
  },
  {
   "cell_type": "markdown",
   "metadata": {},
   "source": [
    "##### Result Discussion:"
   ]
  },
  {
   "cell_type": "markdown",
   "metadata": {},
   "source": [
    "---\n",
    "---"
   ]
  },
  {
   "cell_type": "markdown",
   "metadata": {},
   "source": [
    "### PART D"
   ]
  },
  {
   "cell_type": "markdown",
   "metadata": {},
   "source": [
    "Now that you are comfortable in designing experiments, in this section, use the implementations of **Heap**, **Merge**, and **Quick** sort discussed in class and run suitable experiments to compare the runtimes of these three algorithms. \n",
    "\n",
    "Hint: it should become clear where Quick sort gets its name."
   ]
  },
  {
   "cell_type": "code",
   "execution_count": null,
   "metadata": {},
   "outputs": [],
   "source": [
    "# your implementation and experiments go here."
   ]
  },
  {
   "cell_type": "markdown",
   "metadata": {},
   "source": [
    "In this section, provide a detailed outline of:\n",
    "- The experiments you ran, length values of the list you chose, number of runs, etc.\n",
    "- The plots showing the run times corresponding to each algorithm.\n",
    "- A brief discussion and conclusion regarding the results. A few sentences are fine here."
   ]
  },
  {
   "cell_type": "markdown",
   "metadata": {},
   "source": [
    "---\n",
    "---"
   ]
  },
  {
   "cell_type": "markdown",
   "metadata": {},
   "source": [
    "### PART E"
   ]
  },
  {
   "cell_type": "markdown",
   "metadata": {},
   "source": [
    "E1. In previous experiments you also saw that not all algorithms are suitable for all scenarios. For instance, Merge Sort is better than Quick sort for certain situations. In this section, design a experiment to compare the scenarios where Merge Sort is better/worse than Quick Sort. You can use the traditional version of Merge Sort or use improved version ( maybe via recursion) to compare this performance."
   ]
  },
  {
   "cell_type": "code",
   "execution_count": null,
   "metadata": {},
   "outputs": [],
   "source": [
    "# your implementation and experiments go here."
   ]
  },
  {
   "cell_type": "markdown",
   "metadata": {},
   "source": [
    "In this section, provide a detailed outline of:\n",
    "- The experiments you ran, length values of the list you chose, number of runs, etc.\n",
    "- The plots showing the run times corresponding to each algorithm.\n",
    "- A brief discussion and conclusion regarding the results. A few sentences are fine here."
   ]
  },
  {
   "cell_type": "markdown",
   "metadata": {},
   "source": [
    "---"
   ]
  },
  {
   "cell_type": "markdown",
   "metadata": {},
   "source": [
    "E2. Recall that on the first day of class I asked which two algorithms have similar complexity - Merge Sort and Quick Sort under (O(nlogn)) are likely to perform similar under average cases. However, under worst case, the complexity of quick sort is much worse (O(n^2). Design an experiment to show this behavior. Plot this behavior on a bar/line chart. \n",
    "\n",
    "Next, count the number of \"swaps\" after which Quick sort starts behaving comparable to Merge sort. \n",
    "\n",
    "HINT: This will be a threshold at which the quick sort algorithm picks up again.\n"
   ]
  },
  {
   "cell_type": "code",
   "execution_count": null,
   "metadata": {},
   "outputs": [],
   "source": [
    "## your implementation and code goes here"
   ]
  },
  {
   "cell_type": "markdown",
   "metadata": {},
   "source": [
    "In this section, provide a detailed outline of:\n",
    "- The experiments you ran and the rationale behind your worst case scenario.\n",
    "- The plots showing the run times.\n",
    "\n",
    "Further explain how you computed the swaps and verify that you calculation is correct, by applying it on a diifferent list under same experimental conditions."
   ]
  },
  {
   "cell_type": "markdown",
   "metadata": {},
   "source": [
    "**Reflection**:"
   ]
  },
  {
   "cell_type": "markdown",
   "metadata": {},
   "source": [
    "---\n",
    "---"
   ]
  },
  {
   "cell_type": "markdown",
   "metadata": {},
   "source": [
    "### PART F"
   ]
  },
  {
   "cell_type": "markdown",
   "metadata": {},
   "source": [
    "Traditionally, Insertion Sort is worst than Heap Sort and Merge Sort. Now that you are a master at critical evaluation of sorting and searching algorithms, design an experiment to show that this may not be universally true. That is, there maybe scenarios where insertion sort is better than merge and heap sort.\n",
    "\n",
    "HINT: Think about the Best Case of insertion sort.\n",
    "\n",
    "Again, provide:\n",
    "- An explicit outline of the experiments you ran. That is, list length values, how many “runs”, etc.\n",
    "- A graph of list length vs time displaying the appropriate three curves showing. List lengths should be small here.\n",
    "- A brief discussion and conclusion regarding the results. A few sentences are fine here.\n",
    "- Reflect on why these are experiments are important. \n",
    "\n",
    "HINT: Can you create some sort of \"hybrid\" sort that would be better?"
   ]
  },
  {
   "cell_type": "code",
   "execution_count": null,
   "metadata": {},
   "outputs": [],
   "source": [
    "## your implementation and code goes here"
   ]
  },
  {
   "cell_type": "markdown",
   "metadata": {},
   "source": [
    "**Reflection**:"
   ]
  },
  {
   "cell_type": "markdown",
   "metadata": {},
   "source": [
    "---\n",
    "---"
   ]
  },
  {
   "cell_type": "markdown",
   "metadata": {},
   "source": [
    "**Team Contributions**: In below section describe in detail how you distributed the workload and contributions of each member in the task."
   ]
  },
  {
   "cell_type": "markdown",
   "metadata": {},
   "source": []
  },
  {
   "cell_type": "markdown",
   "metadata": {},
   "source": [
    "---\n",
    "---"
   ]
  },
  {
   "cell_type": "markdown",
   "metadata": {},
   "source": []
  }
 ],
 "metadata": {
  "kernelspec": {
   "display_name": "base",
   "language": "python",
   "name": "python3"
  },
  "language_info": {
   "codemirror_mode": {
    "name": "ipython",
    "version": 3
   },
   "file_extension": ".py",
   "mimetype": "text/x-python",
   "name": "python",
   "nbconvert_exporter": "python",
   "pygments_lexer": "ipython3",
   "version": "3.10.6"
  }
 },
 "nbformat": 4,
 "nbformat_minor": 2
}
